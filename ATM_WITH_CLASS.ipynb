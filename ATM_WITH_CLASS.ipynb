{
  "cells": [
    {
      "cell_type": "markdown",
      "metadata": {
        "id": "view-in-github",
        "colab_type": "text"
      },
      "source": [
        "<a href=\"https://colab.research.google.com/github/faizan-khan07/ATM-Machine/blob/main/ATM_WITH_CLASS.ipynb\" target=\"_parent\"><img src=\"https://colab.research.google.com/assets/colab-badge.svg\" alt=\"Open In Colab\"/></a>"
      ]
    },
    {
      "cell_type": "code",
      "execution_count": null,
      "metadata": {
        "id": "JIpFFPQIawzX"
      },
      "outputs": [],
      "source": [
        "  class welcome:\n",
        "  def wel(self,obj):\n",
        "    print(\"welcome to my bank\")\n",
        "    a=obj.get_authentication_obj()\n",
        "    a.auth(obj)"
      ]
    },
    {
      "cell_type": "code",
      "execution_count": null,
      "metadata": {
        "id": "Qx_fg5jLbPLg"
      },
      "outputs": [],
      "source": [
        "pin=1234\n",
        "class authentication:\n",
        "  global pin\n",
        "  def auth(self,obj):\n",
        "    flag=True\n",
        "    c=3\n",
        "    while flag:\n",
        "      upin=int(input())\n",
        "      if upin==pin:\n",
        "        print(\"welcome to my bank\")\n",
        "        flag=False\n",
        "        m = obj.get_main_menu_obj()\n",
        "        m.menu(obj)\n",
        "      else:\n",
        "        c=c-1\n",
        "        print(\"you have entered wrong pin\")\n",
        "        if c==0:\n",
        "          print(\"your card is blocked\")\n",
        "          flag=False"
      ]
    },
    {
      "cell_type": "code",
      "execution_count": null,
      "metadata": {
        "colab": {
          "background_save": true,
          "base_uri": "https://localhost:8080/"
        },
        "id": "cH0GW9xicFnN",
        "outputId": "226f6d23-dc68-4272-e87b-bbe3de862555"
      },
      "outputs": [
        {
          "name": "stdout",
          "output_type": "stream",
          "text": [
            "welcome to my bank\n",
            "welcome to my bank\n",
            "1.Deposite\n",
            "2.withdraw\n",
            "3.Balance\n",
            "4.pin change\n",
            "5.exit\n"
          ]
        }
      ],
      "source": [
        "class main_menu:\n",
        "  def menu(self,obj):\n",
        "    flag=True\n",
        "    while flag:\n",
        "      print(\"1.Deposite\")\n",
        "      print(\"2.withdraw\")\n",
        "      print(\"3.Balance\")\n",
        "      print(\"4.pin change\")\n",
        "      print(\"5.exit\")\n",
        "      opt=int(input(\"plz select option\"))\n",
        "\n",
        "      if opt==1:\n",
        "        d=obj.get_deposite_obj()\n",
        "        d.depo()\n",
        "      elif opt==2:\n",
        "        wi=obj.get_withdrawl_obj()\n",
        "        wi.witdraw()\n",
        "\n",
        "      elif opt==3:\n",
        "        b=obj.get_account_balance_obj()\n",
        "        b.balance()\n",
        "      elif opt==4:\n",
        "        flag=False\n",
        "        p=obj.get_pin_change_obj()\n",
        "        p.new_pin(obj)\n",
        "\n",
        "      if opt==5:\n",
        "        flag=False\n",
        "        print(\"thank you visit again\")\n",
        "\n",
        "bal=1000\n",
        "\n",
        "\n",
        "class deposite:\n",
        "  def depo(self):\n",
        "    global bal\n",
        "    amt=int(input(\"please enter amount for deposit\"))\n",
        "    bal=bal+amt\n",
        "    print(\"your current balance is:\",bal)\n",
        "\n",
        "class widthdrawl:\n",
        "  def witdraw(self):\n",
        "    global bal\n",
        "    amt=int(input(\"please enter amount for withdraw\"))\n",
        "    bal=bal-amt\n",
        "    print(\"your current balance is:\",bal)\n",
        "\n",
        "\n",
        "class account_balance:\n",
        "  def balance(self):\n",
        "    global bal\n",
        "    print(\"your account balance is\",bal)\n",
        "\n",
        "class pin_change:\n",
        "  def new_pin(self,obj):\n",
        "    global pin\n",
        "    new_pin=int(input(\"enter new pin :\"))\n",
        "    print(\"your new_pin changed successfully\")\n",
        "    a=obj.get_authentication_obj()\n",
        "    a.auth(obj)\n",
        "\n",
        "class objectfactory:\n",
        "  w=welcome()\n",
        "  a=authentication()\n",
        "  m=main_menu()\n",
        "  d=deposite()\n",
        "  wi=widthdrawl()\n",
        "  b=account_balance()\n",
        "  p=pin_change()\n",
        "\n",
        "  def get_welcome_obj(self):\n",
        "    return self.w\n",
        "  def get_authentication_obj(self):\n",
        "    return self.a\n",
        "  def get_main_menu_obj(self):\n",
        "    return self.m\n",
        "  def get_deposite_obj(self):\n",
        "    return self.d\n",
        "  def get_withdrawl_obj(self):\n",
        "    return self.wi\n",
        "  def get_account_balance_obj(self):\n",
        "    return self.b\n",
        "  def get_pin_change_obj(self):\n",
        "    return self.p\n",
        "\n",
        "\n",
        "obj=objectfactory()\n",
        "w=obj.get_welcome_obj()\n",
        "w.wel(obj)\n",
        "\n",
        "\n",
        "\n",
        "\n"
      ]
    },
    {
      "cell_type": "code",
      "execution_count": null,
      "metadata": {
        "id": "L9n2v01ical3"
      },
      "outputs": [],
      "source": []
    }
  ],
  "metadata": {
    "colab": {
      "provenance": [],
      "authorship_tag": "ABX9TyNlbUpL7qV5ckUWcO5rVSWC",
      "include_colab_link": true
    },
    "kernelspec": {
      "display_name": "Python 3",
      "name": "python3"
    },
    "language_info": {
      "name": "python"
    }
  },
  "nbformat": 4,
  "nbformat_minor": 0
}